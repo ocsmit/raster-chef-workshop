{
 "cells": [
  {
   "cell_type": "code",
   "execution_count": 1,
   "metadata": {},
   "outputs": [],
   "source": [
    "\n",
    "from pystac_client import Client  \n",
    "from collections import defaultdict    \n",
    "import json\n",
    "import pandas as pd\n",
    "import geopandas as gpd\n",
    "import datetime\n",
    "from collections import namedtuple\n",
    "from osgeo import gdal\n",
    "import rasterio\n",
    "from rasterio.features import bounds\n",
    "from pyproj import Transformer\n",
    "import numpy as np\n",
    "\n",
    "\n",
    "from typing import Dict\n",
    "\n",
    "\n",
    "# Set up VSIcurl settings\n",
    "gdal.SetConfigOption(\"GDAL_HTTP_COOKIEFILE\", \"~/cookies.txt\")\n",
    "gdal.SetConfigOption(\"GDAL_HTTP_COOKIEJAR\", \"~/cookies.txt\")\n",
    "gdal.SetConfigOption(\"GDAL_DISABLE_READDIR_ON_OPEN\", \"YES\")\n",
    "gdal.SetConfigOption(\"CPL_VSIL_CURL_ALLOWED_EXTENSIONS\", \"TIF\")\n"
   ]
  },
  {
   "cell_type": "code",
   "execution_count": 2,
   "metadata": {},
   "outputs": [],
   "source": [
    "STAC_URL = \"https://cmr.earthdata.nasa.gov/stac\"\n",
    "GEOJSON_PATH = \"./data/farm.geojson\"\n",
    "COLLECTIONS = ['HLSL30.v2.0', 'HLSS30.v2.0']\n",
    "date_range = \"2022-06/2022-06\""
   ]
  },
  {
   "cell_type": "code",
   "execution_count": 3,
   "metadata": {},
   "outputs": [
    {
     "name": "stdout",
     "output_type": "stream",
     "text": [
      "0 - LARC_ASDC\n",
      "1 - USGS_EROS\n",
      "2 - ESA\n",
      "3 - GHRC\n",
      "4 - LAADS\n",
      "5 - OBPG\n",
      "6 - OB_DAAC\n",
      "7 - ECHO\n",
      "8 - ISRO\n",
      "9 - LPCUMULUS\n",
      "10 - EDF_DEV04\n",
      "11 - GES_DISC\n",
      "12 - ASF\n",
      "13 - OMINRT\n",
      "14 - EUMETSAT\n",
      "15 - NCCS\n",
      "16 - NSIDCV0\n",
      "17 - PODAAC\n",
      "18 - LARC\n",
      "19 - USGS\n",
      "20 - SCIOPS\n",
      "21 - LANCEMODIS\n",
      "22 - CDDIS\n",
      "23 - JAXA\n",
      "24 - AU_AADC\n",
      "25 - ECHO10_OPS\n",
      "26 - LPDAAC_ECS\n",
      "27 - NSIDC_ECS\n",
      "28 - ORNL_DAAC\n",
      "29 - LM_FIRMS\n",
      "30 - SEDAC\n",
      "31 - LANCEAMSR2\n",
      "32 - NOAA_NCEI\n",
      "33 - USGS_LTA\n",
      "34 - GESDISCCLD\n",
      "35 - GHRSSTCWIC\n",
      "36 - LARC_CLOUD\n",
      "37 - ASIPS\n",
      "38 - ESDIS\n",
      "39 - POCLOUD\n",
      "40 - NSIDC_CPRD\n",
      "41 - ORNL_CLOUD\n",
      "42 - FEDEO\n",
      "43 - MLHUB\n",
      "44 - XYZ_PROV\n",
      "45 - GHRC_DAAC\n",
      "46 - CSDA\n",
      "47 - NRSCC\n",
      "48 - CEOS_EXTRA\n",
      "49 - AMD_KOPRI\n",
      "50 - AMD_USAPDC\n",
      "51 - MOPITT\n",
      "52 - GHRC_CLOUD\n",
      "53 - LPCLOUD\n",
      "54 - CCMEO\n"
     ]
    }
   ],
   "source": [
    "provider_client = Client.open(STAC_URL)\n",
    "\n",
    "providers = [p for p in provider_client.get_children()]\n",
    "\n",
    "for count, provider in enumerate(providers):\n",
    "    print(f'{count} - {provider.title}')"
   ]
  },
  {
   "cell_type": "code",
   "execution_count": 4,
   "metadata": {},
   "outputs": [
    {
     "name": "stdout",
     "output_type": "stream",
     "text": [
      "{\n",
      "  \"coordinates\": [\n",
      "    [\n",
      "      [\n",
      "        -92.81542340855101,\n",
      "        45.44080475249953\n",
      "      ],\n",
      "      [\n",
      "        -92.81538233065694,\n",
      "        45.440285951753424\n",
      "      ],\n",
      "      [\n",
      "        -92.81530017486931,\n",
      "        45.43957403407592\n",
      "      ],\n",
      "      [\n",
      "        -92.81433073657263,\n",
      "        45.439553858140044\n",
      "      ],\n",
      "      [\n",
      "        -92.8140103290003,\n",
      "        45.43936362753681\n",
      "      ],\n",
      "      [\n",
      "        -92.81270405197334,\n",
      "        45.43933480466197\n",
      "      ],\n",
      "      [\n",
      "        -92.81235078208567,\n",
      "        45.440798988073425\n",
      "      ],\n",
      "      [\n",
      "        -92.81542340855101,\n",
      "        45.44080475249953\n",
      "      ]\n",
      "    ]\n",
      "  ],\n",
      "  \"type\": \"Polygon\"\n",
      "}\n"
     ]
    }
   ],
   "source": [
    "with open(GEOJSON_PATH, \"r\") as fp:\n",
    "    geojson = json.load(fp)\n",
    "\n",
    "bbox = geojson[\"features\"][0][\"geometry\"]\n",
    "print(json.dumps(bbox, indent=2))"
   ]
  },
  {
   "cell_type": "code",
   "execution_count": 5,
   "metadata": {},
   "outputs": [
    {
     "name": "stdout",
     "output_type": "stream",
     "text": [
      "ASTGTM.v003: ASTER Global Digital Elevation Model V003\n",
      "HLSL30.v2.0: HLS Landsat Operational Land Imager Surface Reflectance and TOA Brightness Daily Global 30m v2.0\n",
      "HLSS30.v2.0: HLS Sentinel-2 Multi-spectral Instrument Surface Reflectance Daily Global 30m v2.0\n",
      "MYD11_L2.v061: MODIS/Aqua Land Surface Temperature/Emissivity 5-Min L2 Swath 1km V061\n",
      "MYD11A2.v061: MODIS/Aqua Land Surface Temperature/Emissivity 8-Day L3 Global 1km SIN Grid V061\n",
      "MYD11A1.v061: MODIS/Aqua Land Surface Temperature/Emissivity Daily L3 Global 1km SIN Grid V061\n",
      "MYD09Q1.v061: MODIS/Aqua Surface Reflectance 8-Day L3 Global 250m SIN Grid V061\n",
      "MYD09A1.v061: MODIS/Aqua Surface Reflectance 8-Day L3 Global 500m SIN Grid V061\n",
      "MYD09GA.v061: MODIS/Aqua Surface Reflectance Daily L2G Global 1km and 500m SIN Grid V061\n",
      "MYD09GQ.v061: MODIS/Aqua Surface Reflectance Daily L2G Global 250m SIN Grid V061\n"
     ]
    }
   ],
   "source": [
    "catalog = Client.open(f'{STAC_URL}/LPCLOUD/')\n",
    "products = [c for c in catalog.get_children()]\n",
    "for p in products: \n",
    "    print(f\"{p.id}: {p.title}\")"
   ]
  },
  {
   "cell_type": "code",
   "execution_count": 6,
   "metadata": {},
   "outputs": [
    {
     "name": "stdout",
     "output_type": "stream",
     "text": [
      "17\n"
     ]
    }
   ],
   "source": [
    "search = catalog.search(\n",
    "    collections=COLLECTIONS,\n",
    "    intersects=bbox,\n",
    "    datetime=date_range,\n",
    "    limit=100\n",
    ")\n",
    "print(search.matched())\n",
    "item_collection = search.get_all_items()\n",
    "items = item_collection.to_dict()[\"features\"]\n"
   ]
  },
  {
   "cell_type": "code",
   "execution_count": 7,
   "metadata": {},
   "outputs": [],
   "source": [
    "geometry = geojson\n",
    "outpath = \"./data_out\"\n",
    "\n",
    "def downloader(items, geometry, outpath):\n",
    "    for idx, item in enumerate(items):\n",
    "        for band, file_dict in item[\"assets\"].items():\n",
    "            fp = file_dict[\"href\"]\n",
    "            with rasterio.open(fp) as geo_fp:\n",
    "                bbox = bounds(geometry)\n",
    "                coord_transformer = Transformer.from_crs(\"epsg:4326\", geo_fp.crs)\n",
    "                # calculate pixels to be streamed in cog\n",
    "                coord_upper_left = coord_transformer.transform(bbox[3], bbox[0])\n",
    "                coord_lower_right = coord_transformer.transform(bbox[1], bbox[2])\n",
    "                pixel_upper_left = geo_fp.index(coord_upper_left[0], coord_upper_left[1])\n",
    "                pixel_lower_right = geo_fp.index(coord_lower_right[0], coord_lower_right[1])\n",
    "\n",
    "                for pixel in pixel_upper_left + pixel_lower_right:\n",
    "                    # If the pixel value is below 0, that means that\n",
    "                    # the bounds are not inside of our available dataset.\n",
    "                    if pixel < 0:\n",
    "                        print(\"Provided geometry extends available datafile.\")\n",
    "                        print(\"Provide a smaller area of interest to get a result.\")\n",
    "                        exit()\n",
    "\n",
    "                # make http range request only for bytes in window\n",
    "                window = rasterio.windows.Window.from_slices(\n",
    "                    (pixel_upper_left[0], pixel_lower_right[0]),\n",
    "                    (pixel_upper_left[1], pixel_lower_right[1]),\n",
    "                )\n",
    "                subset = geo_fp.read(1, window=window)\n",
    "                if outpath is not None:\n",
    "                    height, width = subset.shape\n",
    "\n",
    "                    profile = geo_fp.profile.copy()\n",
    "                    profile[\"width\"] = width\n",
    "                    profile[\"height\"] = height\n",
    "                    transform = profile[\"transform\"]\n",
    "                    new_transform = rasterio.Affine(\n",
    "                        transform[0],\n",
    "                        transform[1],\n",
    "                        coord_upper_left[0],\n",
    "                        transform[3],\n",
    "                        transform[4],\n",
    "                        coord_upper_left[1],\n",
    "                    )\n",
    "                    profile[\"transform\"] = new_transform\n",
    "                    print(f\"Writing {os.path.join(outpath, fp.split(r'/')[-1])}\")\n",
    "                    with rasterio.open(\n",
    "                        os.path.join(outpath, fp.split(\"/\")[-1]), \"w\", **profile\n",
    "                    ) as dst:\n",
    "                        dst.write(subset, 1)\n",
    "\n"
   ]
  },
  {
   "cell_type": "code",
   "execution_count": 8,
   "metadata": {},
   "outputs": [
    {
     "data": {
      "text/plain": [
       "' Uncomment to run downloader\\nfor item in items:\\n    downloader(item, geojson, outpath)\\n'"
      ]
     },
     "execution_count": 8,
     "metadata": {},
     "output_type": "execute_result"
    }
   ],
   "source": [
    "\"\"\" Uncomment to run downloader\n",
    "for item in items:\n",
    "    downloader(item, geojson, outpath)\n",
    "\"\"\""
   ]
  }
 ],
 "metadata": {
  "kernelspec": {
   "display_name": "Python 3.9.13 ('raster-chef')",
   "language": "python",
   "name": "python3"
  },
  "language_info": {
   "codemirror_mode": {
    "name": "ipython",
    "version": 3
   },
   "file_extension": ".py",
   "mimetype": "text/x-python",
   "name": "python",
   "nbconvert_exporter": "python",
   "pygments_lexer": "ipython3",
   "version": "3.9.13"
  },
  "orig_nbformat": 4,
  "vscode": {
   "interpreter": {
    "hash": "11d31a550cf629a278bffc4479282b102570374240092c407cf5b133dd796ab6"
   }
  }
 },
 "nbformat": 4,
 "nbformat_minor": 2
}
